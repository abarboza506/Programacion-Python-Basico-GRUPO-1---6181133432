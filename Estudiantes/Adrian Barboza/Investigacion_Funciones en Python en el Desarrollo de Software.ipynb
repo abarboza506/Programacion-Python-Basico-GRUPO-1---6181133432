{
 "cells": [
  {
   "cell_type": "markdown",
   "metadata": {},
   "source": [
    "# Curso Programación Python Básico\n",
    "## Autor: Adrian Barboza Chavarría\n",
    "### Investigacion sobre Funciones en Python en el Desarrollo de Software\n",
    "### Actividad Asincrónica Sesión 4\n"
   ]
  },
  {
   "cell_type": "markdown",
   "metadata": {},
   "source": [
    "#### Introducción:\n",
    "Este notebook tiene como propósito brindar una visión general sobre el uso de funciones, la modularización, la rutilización del código y porsupuesto una pinselada sobre como utilizar estos elementos. A lo largo del  documento se desarrollará brevemente cada punto propuesto en la investigación."
   ]
  },
  {
   "cell_type": "markdown",
   "metadata": {},
   "source": [
    "Las funciones en Python son una herramienta esencial en la programación estructurada y funcional. Su correcto uso permite mejorar la reutilización del código, modularización y escalabilidad de los programas, desempeñando un papel crucial en la escritura de un código eficiente y organizado.\n",
    "\n",
    "Algunos de los beneficios clave y buenas práticas incluyen:\n",
    "\n",
    "- Modularización: Dividir el código en partes más pequeñas y manejables para facilitar su comprensión y depuración.\n",
    "- Reutilización del código: Permite evitar la repetición innecesaria de código haciendolo más manejable.\n",
    "- Mantenimiento simplificado: Al utilizar la modularización se facilitan las actualizaciones del código.\n",
    "- Legibilidad y claridad: Para mejorar la comprensión del código se deben proporcionar nombres descriptivos a las variables dentro del código.\n"
   ]
  },
  {
   "cell_type": "markdown",
   "metadata": {},
   "source": [
    "### Pregunta de investigación:\n",
    "#### ¿Cómo influyen las funciones en Python en la modularización y eficiencia de los programas en desarrollo de software?\n",
    "\n",
    "El uso de funciones en Python no solo mejoran la estructura y legibilidad del código, sino que también reducen la complejidad y mejoran la productividad en el desarrollo del software. Es fundamental adoptar lo\n",
    "anterior como parte de las mejores práticas a la hora de desarrollar código en Python. Se debe buscar la\n",
    "manera de incorporar estos elemento en la logica de diseño y ejecución de los programas con el fin de \n",
    "obtimizar al maximo los recursos disponibles del sistema, a la vez que se simplifican las labores de mante- nimiento y trazabilidad deltro del programa."
   ]
  },
  {
   "cell_type": "markdown",
   "metadata": {},
   "source": [
    "### Definición y Propósito de las Funciones en Python\n",
    "\n",
    "#### ¿Qué son las funciones?\n",
    "\n",
    "Las funciones en Python, y en cualquier lenguaje de programación, son estructuras esenciales de código. Una función es un grupo de instrucciones que constituyen una unidad lógica del programa y resuelven un problema muy concreto. Las funciones tienen un doble objetivo: Dividir y organizar el código en partes más sencillas.\n",
    "\n",
    "Encapsular en una función el código que se repite a lo largo de un programa para ser reutilizado, es una manera óptima, agil y ordenada de trabar. Python tiene de manera nativa una serie de funciones que podemos utilizar directamente en nuestras aplicaciones. Algunas de ellas ya se han visto en clase como la función print() que muestra los resultados del programa en la consola.\n",
    "\n",
    "Ejemplos:"
   ]
  },
  {
   "cell_type": "code",
   "execution_count": null,
   "metadata": {},
   "outputs": [],
   "source": [
    "print(\"¡Hola, Python!\") # Imprime el string\n",
    "\n",
    "nombre = input(\"¿Cuál es tu nombre? \") # Captura información del usuario\n",
    "print(f\"Hola, {nombre}!\")\n",
    "\n",
    "numero = \"10\"\n",
    "print(int(numero))   # Convierte a entero\n",
    "print(float(numero)) # Convierte a decimal\n",
    "print(str(100))      # Convierte a cadena\n",
    "\n",
    "for i in range(1, 6):  # Genera números del 1 al 5\n",
    "    print(i)\n",
    "\n",
    "print(type(42))      # <class 'int'>\n",
    "\n"
   ]
  },
  {
   "cell_type": "markdown",
   "metadata": {},
   "source": [
    "Estas funciones nativas son esenciales en Python y permiten realizar muchas tareas sin necesidad de importar módulos adicionales. Son eficientes y simplifican el código en cualquier programa."
   ]
  },
  {
   "cell_type": "markdown",
   "metadata": {},
   "source": [
    "#### Beneficios de modularizar código con funciones\n",
    "\n",
    "La modularización se refiere a dividir el código en parte más pequeñas, manejables y utilizables. Los modulos son unidades independientes de código que se pueden desarrollar y mantener por separado del programa principal, lo que facilita la creción y mantenimiento de programas complejos. Esto hace que el código sea más legible, mantenible y escalable.\n",
    "\n",
    "Ventajas de la Modularización:\n",
    "\n",
    "1. Organización del Código: División del código en partes pequeñas.\n",
    "2. Reutilización del Código: Los módulos pueden ser invocados en cualquier parte del programa principal donde se necesiten.\n",
    "3. Colaboración Efectiva: Cada miembro del equipo puede trabajar en módulos diferentes a la vez.\n",
    "\n",
    "Ejemplos:"
   ]
  },
  {
   "cell_type": "code",
   "execution_count": null,
   "metadata": {},
   "outputs": [],
   "source": [
    "def sumar(a, b): # Función ejemplo de modularización\n",
    "    return a + b\n",
    "\n",
    "def restar(a, b):\n",
    "    return a - b"
   ]
  },
  {
   "cell_type": "markdown",
   "metadata": {},
   "source": [
    "#### Importancia de la reutilización del código\n",
    "\n",
    "La modularización del código ofrece beneficios en todo el ciclo de vida del desarrollo de un programa, ya sea que busque un código más limpio, un desarrollo más rápido o una mejor capacidad de mantenimiento Adoptar la modularidad es una opción estratégica ya que aporta ventajas como:\n",
    "\n",
    "1. Reducción del código duplicado.\n",
    "2. Matenimiento más sencillo.\n",
    "3. Facilita la Escalabilidad del Proyecto.\n",
    "4. Uso de Librerías y Módulos.\n",
    "5. Fomenta buenas prácticas de programación.\n",
    "\n",
    "En resumen, la reutilización del código es una práctica esencial para escribir un código más profesional, ya que gracias a las funciones, módulos y clases, podemos escribir código más limpio, modular y fácil de mantener, evitando la duplicación y el esfuerzo innecesario.\n",
    "\n",
    "Ejemplos:"
   ]
  },
  {
   "cell_type": "code",
   "execution_count": null,
   "metadata": {},
   "outputs": [],
   "source": [
    "#Ejemplo:\n",
    "\n",
    "# Sin reutilización\n",
    "a = 5\n",
    "b = 10\n",
    "resultado1 = a + b\n",
    "print(resultado1)\n",
    "\n",
    "c = 20\n",
    "d = 30\n",
    "resultado2 = c + d\n",
    "print(resultado2)\n",
    "\n",
    "# Con reutilización\n",
    "def sumar(a, b):\n",
    "    return a + b\n",
    "\n",
    "print(sumar(5, 10))\n",
    "print(sumar(20, 30))"
   ]
  },
  {
   "cell_type": "markdown",
   "metadata": {},
   "source": [
    "#### Tipos de Funciones en Python\n",
    "#### Funciones con y sin retorno\n",
    "\n",
    "En Python, las funciones con retorno y sin retorno tienen diferentes propósitos y usos.\n",
    "\n",
    "1. Funciones sin Retorno. Una función sin retorno realiza una tarea pero no devuelve ningún valor al lugar donde fue llamada. El valor por defecto de una función sin retorno es None.\n",
    "\n",
    "2. Funciones con retorno. Una función con retorno devuelve un valor cuando se le llama. Ese valor puede ser usado más adelante en el código. El valor es enviado con la palabra clave return.\n",
    "\n",
    "En comparación las funciones sin retorno solo realizan una acción pero no devuelven ningún valor, mientras que las funciones con retorno si devuelven un valor utilizando return. Pueden devolver un valor calculado, un resultado de una operación o incluso un objeto permitendo que el valor retornado sea utilizado más tarde en el código.\n",
    "\n",
    "Ejemplos:"
   ]
  },
  {
   "cell_type": "code",
   "execution_count": null,
   "metadata": {},
   "outputs": [],
   "source": [
    "#Función sin retorno\n",
    "\n",
    "def saludar(nombre):\n",
    "    print(f\"Hola, {nombre}!\")\n",
    "\n",
    "# Llamada a la función\n",
    "saludar(\"Carlos\")\n",
    "\n",
    "#Salida: Hola, Carlos!\n",
    "\n",
    "#Función con retorno\n",
    "\n",
    "def sumar(a, b):\n",
    "    return a + b\n",
    "\n",
    "# Llamada a la función y almacenamiento del resultado\n",
    "resultado = sumar(5, 3)\n",
    "print(f\"El resultado de la suma es: {resultado}\")\n",
    "\n",
    "#Salida: El resultado de la suma es: 8"
   ]
  },
  {
   "cell_type": "markdown",
   "metadata": {},
   "source": [
    "#### Funciones con parámetros y valores predeterminados\n",
    "\n",
    "\n",
    "En Python se pueden definir parámetros y asignarles un dato en la misma cabecera de la función. Luego cuando llamamos a la función podemos o no enviarle un valor al parámetro. Los parámetros por defecto nos permiten crear funciones más flexibles y que se pueden emplear en distintas circunstancias. Esto significa que si el usuario no proporciona un valor para un parámetro específico, el parámetro usará un valor predeterminado.\n",
    "\n",
    "Las funciones con parámetros y valores predeterminados son útiles cuando quieres que algunos valores sean opcionales, permitiendo que los usuarios llamen a la función con menos argumentos, pero con la flexibilidad de cambiarlos si lo desean. Esto mejora la legibilidad, la flexibilidad y la reutilización del código.\n",
    "\n",
    "Ejemplos:"
   ]
  },
  {
   "cell_type": "code",
   "execution_count": null,
   "metadata": {},
   "outputs": [],
   "source": [
    "# Sintaxis de Funciones con Parámetros y Valores Predeterminados\n",
    "\n",
    "def nombre_funcion(parametro1=valor_predeterminado1, parametro2=valor_predeterminado2):\n",
    "    # Cuerpo de la función\n",
    "    pass\n",
    "\n",
    "# Función con un parámetro con valor predeterminado\n",
    "\n",
    "def saludar(nombre=\"Usuario\"):\n",
    "    print(f\"¡Hola, {nombre}!\")\n",
    "\n",
    "# Llamadas a la función\n",
    "saludar(\"Carlos\")  # Proporcionamos un valor\n",
    "saludar()          # No proporcionamos un valor, se usa el predeterminado\n",
    "\n",
    "# Función con múltiples parámetros y valores predeterminados\n",
    "\n",
    "def crear_mensaje(nombre=\"Invitado\", edad=18):\n",
    "    print(f\"Hola {nombre}, tienes {edad} años.\")\n",
    "\n",
    "# Llamadas a la función\n",
    "crear_mensaje(\"Ana\", 25)  # Se proporcionan ambos valores\n",
    "crear_mensaje(\"Luis\")     # Se proporciona solo el nombre, la edad usa el valor predeterminado\n",
    "crear_mensaje()           # Se usan ambos valores predeterminados\n",
    "\n",
    "# Orden de los parámetros (sin valores predeterminados primero)\n",
    "\n",
    "def multiplicar(a, b=2):\n",
    "    return a * b\n",
    "\n",
    "# Llamadas a la función\n",
    "print(multiplicar(5))   # Se usa 2 como valor predeterminado para b\n",
    "print(multiplicar(5, 3)) # Se usa el valor proporcionado para b"
   ]
  },
  {
   "cell_type": "markdown",
   "metadata": {},
   "source": [
    "#### Uso de *args y **kwargs\n",
    "\n",
    "La mayoría de los programadores nuevos en Python tienen dificultades para entender el uso de *args y **kwargs. ¿Para qué se usan? Los nombres args o kwargs corresponden a una convención entre programadores en donde se usa el asterisco simple * o doble **. Es decir, podrías escribir *variable y **variables. \n",
    "\n",
    "1. Uso de *args\n",
    "El principal uso de *args y **kwargs es en la definición de funciones. Ambos permiten pasar un número variable de argumentos a una función, por lo que si se quiere definir una función cuyo número de parámetros de entrada puede ser variable se considera el uso de *args o **kwargs como una opción. El nombre de args viene de argumentos, que es como se denominan en programación a los parámetros de entrada de una función.\n",
    "\n",
    "Ejemplo:"
   ]
  },
  {
   "cell_type": "code",
   "execution_count": null,
   "metadata": {},
   "outputs": [],
   "source": [
    "def test_var_args(f_arg, *argv):\n",
    "    print(\"primer argumento normal:\", f_arg)\n",
    "    for arg in argv:\n",
    "        print(\"argumentos de *argv:\", arg)\n",
    "\n",
    "test_var_args('python', 'foo', 'bar')\n",
    "\n",
    "# salida\n",
    "\n",
    "# primer argumento normal: python\n",
    "# argumentos de *argv: foo\n",
    "# argumentos de *argv: bar"
   ]
  },
  {
   "cell_type": "markdown",
   "metadata": {},
   "source": [
    "2. Uso de **kwargs\n",
    "**kwargs permite pasar argumentos de longitud variable asociados con un nombre o key a una función. Deberías usar **kwargs si quieres manejar argumentos con nombre como entrada a una función. \n",
    "Ejemplo:"
   ]
  },
  {
   "cell_type": "code",
   "execution_count": null,
   "metadata": {},
   "outputs": [],
   "source": [
    "def saludame(**kwargs):\n",
    "    for key, value in kwargs.items():\n",
    "        print(\"{0} = {1}\".format(key, value))\n",
    "\n",
    ">>> saludame(nombre=\"Covadonga\")\n",
    "nombre = Covadonga"
   ]
  },
  {
   "cell_type": "markdown",
   "metadata": {},
   "source": [
    "El cuando usarlos dependerá mucho de los requisitos del programa. Uno de los usos más comunes es para crear decoradores para funciones. También puede ser usado para monkey patching, lo que significa modificar código en tiempo de ejecución. Por ejemplo si se tiene una clase con una función llamada get_info que llama a una API (Application Programming Interface) que devuelve una determinada respuesta. Para hacer una prueba se puede reemplazar la llamada a la API por unos datos de prueba."
   ]
  },
  {
   "cell_type": "markdown",
   "metadata": {},
   "source": [
    "#### Funciones anónimas (lambda)\n",
    "\n",
    "En Python, las funciones lambda son funciones anónimas, lo que significa que no tienen un nombre y se definen en una sola línea usando la palabra clave lambda. Son útiles para funciones pequeñas y rápidas que no necesitan definirse con def.\n",
    "\n",
    "Ejemplo:"
   ]
  },
  {
   "cell_type": "code",
   "execution_count": null,
   "metadata": {},
   "outputs": [],
   "source": [
    "# Función lambda para sumar dos números\n",
    "suma = lambda x, y: x + y\n",
    "\n",
    "print(suma(3, 5))  # Salida: 8\n",
    "\n",
    "# Equivalente con def\n",
    "\n",
    "def suma(x, y):\n",
    "    return x + y"
   ]
  },
  {
   "cell_type": "markdown",
   "metadata": {},
   "source": [
    "Las funciones lambda son útiles para tareas pequeñas y rápidas. Son ideales para usarlas en map(), filter() y sorted(). Es importante que no se debe reemplazar a una funcion def cuando dicha función es compleja o requiere múltiples líneas. Por último se puede mencionar que mejoran la legibilidad y reducen código innecesario."
   ]
  },
  {
   "cell_type": "markdown",
   "metadata": {},
   "source": [
    "#### Funciones recursivas\n",
    "\n",
    "La recursividad o recursión es un concepto que proviene de las matemáticas, y que aplicado al mundo de la programación nos permite resolver problemas o tareas donde las mismas pueden ser divididas en subtareas cuya funcionalidad es la misma. Dado que los subproblemas a resolver son de la misma naturaleza, se puede usar la misma función para resolverlos. Dicho de otra manera, una función recursiva es aquella que está definida en función de sí misma, por lo que se llama repetidamente a sí misma hasta llegar a un punto de salida.\n",
    "\n",
    "Ejemplo:"
   ]
  },
  {
   "cell_type": "code",
   "execution_count": null,
   "metadata": {},
   "outputs": [],
   "source": [
    "# Ejemplo sin recursión\n",
    "\n",
    "def factorial_iterativo(n):\n",
    "    resultado = 1\n",
    "    for i in range(1, n + 1):\n",
    "        resultado *= i\n",
    "    return resultado\n",
    "\n",
    "print(factorial_iterativo(5))  # Salida: 120\n",
    "\n",
    "# Ejemplo con recursión\n",
    "\n",
    "def factorial(n):\n",
    "    if n == 0 or n == 1:  # Caso base\n",
    "        return 1\n",
    "    return n * factorial(n - 1)  # Caso recursivo\n",
    "\n",
    "print(factorial(5))  # Salida: 120"
   ]
  },
  {
   "cell_type": "markdown",
   "metadata": {},
   "source": [
    "#### Generadores (yield)\n",
    "\n",
    "Los generadores en Python son una forma eficiente de crear iteradores sin almacenar todos los valores en memoria. Se usan con la palabra clave yield en lugar de return. Los genetadores devuelven un objeto iterable, pero en lugar de calcular todos los valores de una vez, los genera bajo demanda usando yield lo que tiene como ventajas principales el ahorro de memoria y un código más eficientes y limpio. Estos se pueden usar en bucles for sin necesidad de manejar manualmente índices.\n",
    "\n",
    "Los generadores (yield) son una alternativa eficiente a listas grandes cuando no necesitas todos los valores a la vez ya que son ideales para grandes secuencias y flujos de datos en tiempo real. Usar yield evita el consumo innecesario de memoria y mejora el rendimiento.\n",
    "\n",
    "Ejemplo:"
   ]
  },
  {
   "cell_type": "code",
   "execution_count": null,
   "metadata": {},
   "outputs": [],
   "source": [
    "def contar_hasta(n):\n",
    "    contador = 1\n",
    "    while contador <= n:\n",
    "        yield contador  # Genera el número actual\n",
    "        contador += 1\n",
    "\n",
    "# Usamos el generador\n",
    "for numero in contar_hasta(5):\n",
    "    print(numero)\n",
    "\n",
    "# Salida\n",
    "# 1\n",
    "# 2\n",
    "# 3\n",
    "# 4\n",
    "# 5"
   ]
  },
  {
   "cell_type": "markdown",
   "metadata": {},
   "source": [
    "#### Closures y decoradores\n",
    "\n",
    "Los closures en Python son funciones anidadas que permite a una función interna recordar las variables de su función externa incluso después de que esta última ha terminado de ejecutarse. Estas son utilizadas principalmente en situaciones donde se requieren decoradores, enfatizando la importancia de un uso adecuado para mantener la legibilidad y mantenibilidad del código. Los closures y los decoradores permiten escribir código más limpio, reutilizable y modular ya que estas funciones anidadas recuerdan las variables del ámbito en el que fueron creadas, incluso después de que dicho ámbito haya finalizado.\n",
    "\n",
    "Ejemplo:"
   ]
  },
  {
   "cell_type": "code",
   "execution_count": null,
   "metadata": {},
   "outputs": [],
   "source": [
    "def exterior(mensaje):\n",
    "    def interior():\n",
    "        print(mensaje)  # Recuerda el valor de \"mensaje\"\n",
    "    return interior  # Retorna la función interior sin ejecutarla\n",
    "\n",
    "mi_closure = exterior(\"¡Hola, mundo!\")\n",
    "mi_closure()  # Salida: ¡Hola, mundo!"
   ]
  },
  {
   "cell_type": "markdown",
   "metadata": {},
   "source": [
    "#### Aplicación en estructuras de datos (listas, diccionarios)\n",
    "\n",
    "#### Listas\n",
    "\n",
    "Las listas son estructuras de datos que pueden almacenar cualquier otro tipo de dato, inclusive una lista puede contener otra lista. Por otra parte la cantidad de elementos de una lista se puede modificar removiendo o añadiendo elementos. Para definir una lista se utilizan los corchetes, dentro de estos se colocan todos los elementos separados por comas. Las listas permiten almacenar elementos en un orden específico y acceder a ellos mediante índices.\n",
    "\n",
    "Ejemplo:"
   ]
  },
  {
   "cell_type": "code",
   "execution_count": null,
   "metadata": {},
   "outputs": [],
   "source": [
    "# Lista de números\n",
    "numeros = [10, 20, 30, 40, 50]\n",
    "\n",
    "# Acceder al tercer elemento\n",
    "print(numeros[2])  # Salida: 30\n",
    "\n",
    "# Modificar un elemento\n",
    "numeros[1] = 25\n",
    "print(numeros)  # Salida: [10, 25, 30, 40, 50]"
   ]
  },
  {
   "cell_type": "markdown",
   "metadata": {},
   "source": [
    "#### Diccionarios\n",
    "\n",
    "Los diccionarios son estructuras que contienen una colección de elementos de la forma clave: valor separados por comas y encerrados entre llaves. Las claves deben ser objetos inmutables y los valores pueden ser de cualquier tipo. Necesariamente las claves deben ser únicas en cada diccionario, no así los valores. Los diccionarios permiten almacenar información estructurada de forma eficiente.\n",
    "\n",
    "Ejemplo:"
   ]
  },
  {
   "cell_type": "code",
   "execution_count": null,
   "metadata": {},
   "outputs": [],
   "source": [
    "# Diccionario de un estudiante\n",
    "estudiante = {\n",
    "    \"nombre\": \"Juan\",\n",
    "    \"edad\": 20,\n",
    "    \"carrera\": \"Ingeniería\"\n",
    "}\n",
    "\n",
    "print(estudiante[\"nombre\"])  # Salida: Juan"
   ]
  },
  {
   "cell_type": "markdown",
   "metadata": {},
   "source": [
    "#### Uso de funciones en procesamiento de datos\n",
    "\n",
    "Las funciones son una parte esencial del lenguaje de programación Python por lo que esté posee muchas funciones integradas en su ecosistema de bibliotecas. También permite escribir funciones personalizadas para resolver los distintos problemas que te planteen los datos. También permiten modularizar el código, facilitando el procesamiento de datos de manera eficiente. \n",
    "\n",
    "Ejemplo:"
   ]
  },
  {
   "cell_type": "code",
   "execution_count": null,
   "metadata": {},
   "outputs": [],
   "source": [
    "# Función para calcular el promedio de una lista de números\n",
    "def calcular_promedio(lista):\n",
    "    return sum(lista) / len(lista) if lista else 0\n",
    "\n",
    "numeros = [10, 20, 30, 40, 50]\n",
    "print(calcular_promedio(numeros))  # Salida: 30.0"
   ]
  },
  {
   "cell_type": "markdown",
   "metadata": {},
   "source": [
    "#### Optimización del rendimiento con funciones\n",
    "\n",
    "La optimización del rendimiento en Python puede lograrse a través de diversas técnicas, como la reducción del tiempo de ejecución de las iteraciones, el uso de algoritmos más eficientes (como el descenso del gradiente o el método de Newton), y mejorar la eficiencia en el uso de recursos. Es fundamental evaluar el rendimiento mediante criterios como la velocidad, el tiempo de ejecución y el consumo de memoria para asegurar que los programas se ejecuten de manera más efectiva.\n",
    "\n",
    "Ejemplo:"
   ]
  },
  {
   "cell_type": "code",
   "execution_count": null,
   "metadata": {},
   "outputs": [],
   "source": [
    "# Generador para obtener números pares hasta un límite\n",
    "def numeros_pares(limite):\n",
    "    for num in range(0, limite, 2):\n",
    "        yield num\n",
    "\n",
    "pares = numeros_pares(10)\n",
    "print(list(pares))  # Salida: [0, 2, 4, 6, 8]"
   ]
  },
  {
   "cell_type": "markdown",
   "metadata": {},
   "source": [
    "#### Comparación entre funciones definidas por el usuario y funciones integradas (len(), sum(), etc.)\n",
    "\n",
    "Las funciones integradas de Python son funciones predefinidas que se pueden utilizar en cualquier parte del código, mientras que las funciones definidas por el usuario son funciones que se crean para cumplir un objetivo específico.\n",
    "\n",
    "Ejemplo Funciones Integradas:"
   ]
  },
  {
   "cell_type": "code",
   "execution_count": null,
   "metadata": {},
   "outputs": [],
   "source": [
    "# len() - Retorna la longitud de una lista\n",
    "numeros = [10, 20, 30, 40]\n",
    "print(len(numeros))  # Salida: 4\n",
    "\n",
    "# sum() - Suma los elementos de una lista\n",
    "print(sum(numeros))  # Salida: 100\n",
    "\n",
    "# max() - Retorna el valor máximo de una lista\n",
    "print(max(numeros))  # Salida: 40\n",
    "\n",
    "# min() - Retorna el valor mínimo\n",
    "print(min(numeros))  # Salida: 10"
   ]
  },
  {
   "cell_type": "markdown",
   "metadata": {},
   "source": [
    "Ejemplo Funciones Definidas por el Usuario"
   ]
  },
  {
   "cell_type": "code",
   "execution_count": null,
   "metadata": {},
   "outputs": [],
   "source": [
    "# Función para calcular la suma de una lista (sin usar sum())\n",
    "def suma_lista(lista):\n",
    "    total = 0\n",
    "    for num in lista:\n",
    "        total += num\n",
    "    return total\n",
    "\n",
    "numeros = [10, 20, 30, 40]\n",
    "print(suma_lista(numeros))  # Salida: 100"
   ]
  },
  {
   "cell_type": "markdown",
   "metadata": {},
   "source": [
    "#### Conclusiones\n",
    "\n",
    "\n",
    "Python es un lenguaje versátil y eficiente para el procesamiento de datos gracias a estructuras como las listas y diccionarios. Estas permiten almacenar y manipular información de manera flexible. El uso de funciones facilita la modularidad del código y optimiza su rendimiento del sistema.\n",
    "\n",
    "El uso de funciones es fundamental para escribir código más estructurado, reutilizable y eficiente. A través de su implementación se puede observar como el modularizar tareas permite reducir la complejidad y mejorar la legibilidad del código, facilitando su mantenimiento y escalabilidad. Además las funciones definidas por el usuario ofrecen mucha flexibilidad cuando se requiere una lógica específica. Por otra parte la importancia de técnicas avanzadas ayuda a mejorar la eficiencia en el procesamiento de datos. El uso correcto de las funciones no solo optimiza el rendimiento, sino que también fomenta mejores prácticas de programación, haciendo que el código sea más claro y fácil de depurar."
   ]
  },
  {
   "cell_type": "markdown",
   "metadata": {},
   "source": [
    "#### GitHub\n",
    "https://github.com/abarboza506/Programacion-Python-Basico-GRUPO-1---6181133432/commit/5ff611360926281663f48bb79ce82854f7240c04"
   ]
  },
  {
   "cell_type": "markdown",
   "metadata": {},
   "source": [
    "#### Material consultado:\n",
    "\n",
    "https://aulavirtual.espol.edu.ec/courses/4558/pages/funciones-en-python#:~:text=C%C3%B3mo%20definir%20una%20funci%C3%B3n%20en%20Python,-La%20siguiente%20imagen&text=Para%20definir%20una%20funci%C3%B3n%20en,una%20lista%20opcional%20de%20par%C3%A1metros.\n",
    "\n",
    "https://keepcoding.io/blog/modularizar-el-codigo-en-python/\n",
    "\n",
    "https://fastercapital.com/es/tema/por-qu%C3%A9-es-importante-para-la-reutilizaci%C3%B3n-y-la-eficiencia-del-c%C3%B3digo.html\n",
    "\n",
    "https://www.tutorialesprogramacionya.com/pythonya/detalleconcepto.php?punto=28&codigo=28&inicio=15\n",
    "\n",
    "https://python-intermedio.readthedocs.io/es/latest/args_and_kwargs.html#:~:text=El%20principal%20uso%20de%20*args,**kwargs%20como%20una%20opci%C3%B3n.\n",
    "\n",
    "https://ellibrodepython.com/recursividad\n",
    "\n",
    "https://codigofacilito.com/articulos/closures-python\n",
    "\n",
    "https://jorgedelossantos.github.io/apuntes-python/Listas%2C%20tuplas%20y%20diccionarios.html\n",
    "\n",
    "https://www.datacamp.com/es/tutorial/functions-python-tutorial\n",
    "\n",
    "https://chatgpt.com/\n"
   ]
  }
 ],
 "metadata": {
  "kernelspec": {
   "display_name": "Python 3",
   "language": "python",
   "name": "python3"
  },
  "language_info": {
   "codemirror_mode": {
    "name": "ipython",
    "version": 3
   },
   "file_extension": ".py",
   "mimetype": "text/x-python",
   "name": "python",
   "nbconvert_exporter": "python",
   "pygments_lexer": "ipython3",
   "version": "3.13.1"
  }
 },
 "nbformat": 4,
 "nbformat_minor": 2
}
